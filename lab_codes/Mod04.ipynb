{
 "cells": [
  {
   "cell_type": "code",
   "execution_count": 1,
   "id": "53976e85",
   "metadata": {},
   "outputs": [],
   "source": [
    "x=5"
   ]
  },
  {
   "cell_type": "code",
   "execution_count": 2,
   "id": "6b193fc0",
   "metadata": {},
   "outputs": [
    {
     "data": {
      "text/plain": [
       "True"
      ]
     },
     "execution_count": 2,
     "metadata": {},
     "output_type": "execute_result"
    }
   ],
   "source": [
    "x==5"
   ]
  },
  {
   "cell_type": "code",
   "execution_count": 3,
   "id": "d063572a",
   "metadata": {},
   "outputs": [
    {
     "ename": "NameError",
     "evalue": "name 'y' is not defined",
     "output_type": "error",
     "traceback": [
      "\u001b[0;31m---------------------------------------------------------------------------\u001b[0m",
      "\u001b[0;31mNameError\u001b[0m                                 Traceback (most recent call last)",
      "Input \u001b[0;32mIn [3]\u001b[0m, in \u001b[0;36m<cell line: 1>\u001b[0;34m()\u001b[0m\n\u001b[0;32m----> 1\u001b[0m \u001b[43my\u001b[49m\u001b[38;5;241m==\u001b[39m\u001b[38;5;241m5\u001b[39m\n",
      "\u001b[0;31mNameError\u001b[0m: name 'y' is not defined"
     ]
    }
   ],
   "source": [
    "# y尚未定義無法比較。\n",
    "y==5"
   ]
  },
  {
   "cell_type": "code",
   "execution_count": 4,
   "id": "5b26c474",
   "metadata": {},
   "outputs": [
    {
     "data": {
      "text/plain": [
       "2"
      ]
     },
     "execution_count": 4,
     "metadata": {},
     "output_type": "execute_result"
    }
   ],
   "source": [
    "(x<7)*2"
   ]
  },
  {
   "cell_type": "code",
   "execution_count": 5,
   "id": "66ae895a",
   "metadata": {},
   "outputs": [
    {
     "data": {
      "text/plain": [
       "False"
      ]
     },
     "execution_count": 5,
     "metadata": {},
     "output_type": "execute_result"
    }
   ],
   "source": [
    "# 比較記憶體空間是否相同。\n",
    "10==\"10\""
   ]
  },
  {
   "cell_type": "code",
   "execution_count": 6,
   "id": "9e0e61a9",
   "metadata": {},
   "outputs": [
    {
     "ename": "TypeError",
     "evalue": "'<' not supported between instances of 'int' and 'str'",
     "output_type": "error",
     "traceback": [
      "\u001b[0;31m---------------------------------------------------------------------------\u001b[0m",
      "\u001b[0;31mTypeError\u001b[0m                                 Traceback (most recent call last)",
      "Input \u001b[0;32mIn [6]\u001b[0m, in \u001b[0;36m<cell line: 1>\u001b[0;34m()\u001b[0m\n\u001b[0;32m----> 1\u001b[0m \u001b[38;5;241;43m10\u001b[39;49m\u001b[38;5;241;43m<\u001b[39;49m\u001b[38;5;124;43m\"\u001b[39;49m\u001b[38;5;124;43m10\u001b[39;49m\u001b[38;5;124;43m\"\u001b[39;49m\n",
      "\u001b[0;31mTypeError\u001b[0m: '<' not supported between instances of 'int' and 'str'"
     ]
    }
   ],
   "source": [
    "# 不同資料型態無法比大小。\n",
    "10<\"10\""
   ]
  },
  {
   "cell_type": "code",
   "execution_count": 8,
   "id": "e984a55f",
   "metadata": {},
   "outputs": [
    {
     "data": {
      "text/plain": [
       "False"
      ]
     },
     "execution_count": 8,
     "metadata": {},
     "output_type": "execute_result"
    }
   ],
   "source": [
    "not 3"
   ]
  },
  {
   "cell_type": "code",
   "execution_count": 10,
   "id": "3e76f5cf",
   "metadata": {},
   "outputs": [
    {
     "data": {
      "text/plain": [
       "True"
      ]
     },
     "execution_count": 10,
     "metadata": {},
     "output_type": "execute_result"
    }
   ],
   "source": [
    "not 0"
   ]
  },
  {
   "cell_type": "code",
   "execution_count": 11,
   "id": "09164efe",
   "metadata": {},
   "outputs": [],
   "source": [
    "x=22"
   ]
  },
  {
   "cell_type": "markdown",
   "id": "673b0010",
   "metadata": {},
   "source": [
    "### 單一運算永遠比二元運算快"
   ]
  },
  {
   "cell_type": "code",
   "execution_count": 14,
   "id": "68d68723",
   "metadata": {},
   "outputs": [
    {
     "data": {
      "text/plain": [
       "True"
      ]
     },
     "execution_count": 14,
     "metadata": {},
     "output_type": "execute_result"
    }
   ],
   "source": [
    "# x是否為偶數。\n",
    "not x%2"
   ]
  },
  {
   "cell_type": "code",
   "execution_count": 15,
   "id": "16e6a4ba",
   "metadata": {},
   "outputs": [
    {
     "data": {
      "text/plain": [
       "True"
      ]
     },
     "execution_count": 15,
     "metadata": {},
     "output_type": "execute_result"
    }
   ],
   "source": [
    "# 代表的意義同上。\n",
    "x%2==0"
   ]
  },
  {
   "cell_type": "code",
   "execution_count": 16,
   "id": "5d6d7b45",
   "metadata": {},
   "outputs": [
    {
     "name": "stdout",
     "output_type": "stream",
     "text": [
      "25.2 ns ± 0.0499 ns per loop (mean ± std. dev. of 7 runs, 10,000,000 loops each)\n"
     ]
    }
   ],
   "source": [
    "# 速度快。\n",
    "%timeit not x%2"
   ]
  },
  {
   "cell_type": "code",
   "execution_count": 18,
   "id": "00ca4423",
   "metadata": {},
   "outputs": [
    {
     "name": "stdout",
     "output_type": "stream",
     "text": [
      "29 ns ± 0.0409 ns per loop (mean ± std. dev. of 7 runs, 10,000,000 loops each)\n"
     ]
    }
   ],
   "source": [
    "# 速度慢。\n",
    "%timeit x%2==0"
   ]
  },
  {
   "cell_type": "code",
   "execution_count": 20,
   "id": "5f3ae5c9",
   "metadata": {},
   "outputs": [
    {
     "data": {
      "text/plain": [
       "8"
      ]
     },
     "execution_count": 20,
     "metadata": {},
     "output_type": "execute_result"
    }
   ],
   "source": [
    "8 or 6"
   ]
  },
  {
   "cell_type": "code",
   "execution_count": 21,
   "id": "5301ef75",
   "metadata": {},
   "outputs": [
    {
     "data": {
      "text/plain": [
       "5"
      ]
     },
     "execution_count": 21,
     "metadata": {},
     "output_type": "execute_result"
    }
   ],
   "source": [
    "7 and 5"
   ]
  },
  {
   "cell_type": "code",
   "execution_count": 22,
   "id": "05c4e82f",
   "metadata": {},
   "outputs": [
    {
     "data": {
      "text/plain": [
       "0"
      ]
     },
     "execution_count": 22,
     "metadata": {},
     "output_type": "execute_result"
    }
   ],
   "source": [
    "0 and 7"
   ]
  },
  {
   "cell_type": "code",
   "execution_count": 23,
   "id": "79a44264",
   "metadata": {},
   "outputs": [
    {
     "data": {
      "text/plain": [
       "3"
      ]
     },
     "execution_count": 23,
     "metadata": {},
     "output_type": "execute_result"
    }
   ],
   "source": [
    "0 or 3"
   ]
  },
  {
   "cell_type": "code",
   "execution_count": 24,
   "id": "383e93c9",
   "metadata": {},
   "outputs": [
    {
     "data": {
      "text/plain": [
       "0"
      ]
     },
     "execution_count": 24,
     "metadata": {},
     "output_type": "execute_result"
    }
   ],
   "source": [
    "0 or 0"
   ]
  },
  {
   "cell_type": "code",
   "execution_count": 25,
   "id": "68751946",
   "metadata": {},
   "outputs": [
    {
     "data": {
      "text/plain": [
       "1"
      ]
     },
     "execution_count": 25,
     "metadata": {},
     "output_type": "execute_result"
    }
   ],
   "source": [
    "1 or 1"
   ]
  },
  {
   "cell_type": "code",
   "execution_count": 26,
   "id": "95beec84",
   "metadata": {},
   "outputs": [
    {
     "data": {
      "text/plain": [
       "0"
      ]
     },
     "execution_count": 26,
     "metadata": {},
     "output_type": "execute_result"
    }
   ],
   "source": [
    "0 and 0"
   ]
  },
  {
   "cell_type": "code",
   "execution_count": 27,
   "id": "4295cf0f",
   "metadata": {},
   "outputs": [
    {
     "data": {
      "text/plain": [
       "0"
      ]
     },
     "execution_count": 27,
     "metadata": {},
     "output_type": "execute_result"
    }
   ],
   "source": [
    "0 and -1"
   ]
  },
  {
   "cell_type": "code",
   "execution_count": 28,
   "id": "b0908fc5",
   "metadata": {},
   "outputs": [
    {
     "data": {
      "text/plain": [
       "0"
      ]
     },
     "execution_count": 28,
     "metadata": {},
     "output_type": "execute_result"
    }
   ],
   "source": [
    "3 and 0"
   ]
  },
  {
   "cell_type": "code",
   "execution_count": 32,
   "id": "4b74925e",
   "metadata": {},
   "outputs": [],
   "source": [
    "a=0"
   ]
  },
  {
   "cell_type": "code",
   "execution_count": 33,
   "id": "4daedf83",
   "metadata": {},
   "outputs": [],
   "source": [
    "b=3"
   ]
  },
  {
   "cell_type": "code",
   "execution_count": 38,
   "id": "7de17402",
   "metadata": {},
   "outputs": [
    {
     "data": {
      "text/plain": [
       "True"
      ]
     },
     "execution_count": 38,
     "metadata": {},
     "output_type": "execute_result"
    }
   ],
   "source": [
    "not a == b"
   ]
  },
  {
   "cell_type": "code",
   "execution_count": 39,
   "id": "796eddad",
   "metadata": {},
   "outputs": [
    {
     "ename": "SyntaxError",
     "evalue": "invalid syntax (2402672868.py, line 1)",
     "output_type": "error",
     "traceback": [
      "\u001b[0;36m  Input \u001b[0;32mIn [39]\u001b[0;36m\u001b[0m\n\u001b[0;31m    a == not b\u001b[0m\n\u001b[0m         ^\u001b[0m\n\u001b[0;31mSyntaxError\u001b[0m\u001b[0;31m:\u001b[0m invalid syntax\n"
     ]
    }
   ],
   "source": [
    "a == not b"
   ]
  },
  {
   "cell_type": "code",
   "execution_count": 40,
   "id": "fbb22d3e",
   "metadata": {},
   "outputs": [],
   "source": [
    "x=70"
   ]
  },
  {
   "cell_type": "code",
   "execution_count": 41,
   "id": "035ea543",
   "metadata": {},
   "outputs": [],
   "source": [
    "y=80"
   ]
  },
  {
   "cell_type": "code",
   "execution_count": 42,
   "id": "b873f04f",
   "metadata": {},
   "outputs": [
    {
     "data": {
      "text/plain": [
       "False"
      ]
     },
     "execution_count": 42,
     "metadata": {},
     "output_type": "execute_result"
    }
   ],
   "source": [
    "#內容值不同記憶體位置不同必為false。\n",
    "x is y"
   ]
  },
  {
   "cell_type": "code",
   "execution_count": 43,
   "id": "f5d52a5a",
   "metadata": {},
   "outputs": [],
   "source": [
    "m=300"
   ]
  },
  {
   "cell_type": "code",
   "execution_count": 44,
   "id": "f526ed20",
   "metadata": {},
   "outputs": [],
   "source": [
    "n=300"
   ]
  },
  {
   "cell_type": "code",
   "execution_count": 46,
   "id": "4883b1a6",
   "metadata": {},
   "outputs": [
    {
     "data": {
      "text/plain": [
       "False"
      ]
     },
     "execution_count": 46,
     "metadata": {},
     "output_type": "execute_result"
    }
   ],
   "source": [
    "# 若記憶體參考到相同內容值，有可能為真。\n",
    "m is n"
   ]
  },
  {
   "cell_type": "code",
   "execution_count": 47,
   "id": "2a1c3294",
   "metadata": {},
   "outputs": [],
   "source": [
    "a,b=300,300"
   ]
  },
  {
   "cell_type": "code",
   "execution_count": 48,
   "id": "ea788671",
   "metadata": {},
   "outputs": [
    {
     "data": {
      "text/plain": [
       "True"
      ]
     },
     "execution_count": 48,
     "metadata": {},
     "output_type": "execute_result"
    }
   ],
   "source": [
    "# 剛好a,b參考到相同記憶體位置。\n",
    "a is b"
   ]
  },
  {
   "cell_type": "code",
   "execution_count": 49,
   "id": "733e37b1",
   "metadata": {},
   "outputs": [],
   "source": [
    "o=p=300"
   ]
  },
  {
   "cell_type": "code",
   "execution_count": 50,
   "id": "9c4276b5",
   "metadata": {},
   "outputs": [
    {
     "data": {
      "text/plain": [
       "True"
      ]
     },
     "execution_count": 50,
     "metadata": {},
     "output_type": "execute_result"
    }
   ],
   "source": [
    "o is p"
   ]
  },
  {
   "cell_type": "code",
   "execution_count": 52,
   "id": "bf75ea7c",
   "metadata": {},
   "outputs": [
    {
     "data": {
      "text/plain": [
       "'111100'"
      ]
     },
     "execution_count": 52,
     "metadata": {},
     "output_type": "execute_result"
    }
   ],
   "source": [
    "f'{60:b}'"
   ]
  },
  {
   "cell_type": "code",
   "execution_count": 53,
   "id": "12c1168f",
   "metadata": {},
   "outputs": [
    {
     "data": {
      "text/plain": [
       "'1101'"
      ]
     },
     "execution_count": 53,
     "metadata": {},
     "output_type": "execute_result"
    }
   ],
   "source": [
    "f'{13:b}'"
   ]
  },
  {
   "cell_type": "code",
   "execution_count": 55,
   "id": "9366cf85",
   "metadata": {},
   "outputs": [
    {
     "data": {
      "text/plain": [
       "'00111100'"
      ]
     },
     "execution_count": 55,
     "metadata": {},
     "output_type": "execute_result"
    }
   ],
   "source": [
    "f'{60:08b}'  #要8個字元不足補0。"
   ]
  },
  {
   "cell_type": "code",
   "execution_count": 56,
   "id": "02db7c6c",
   "metadata": {},
   "outputs": [
    {
     "data": {
      "text/plain": [
       "'00001101'"
      ]
     },
     "execution_count": 56,
     "metadata": {},
     "output_type": "execute_result"
    }
   ],
   "source": [
    "f'{13:08b}'  #要8個字元不足補0。"
   ]
  },
  {
   "cell_type": "code",
   "execution_count": 57,
   "id": "90ea6c89",
   "metadata": {},
   "outputs": [
    {
     "data": {
      "text/plain": [
       "12"
      ]
     },
     "execution_count": 57,
     "metadata": {},
     "output_type": "execute_result"
    }
   ],
   "source": [
    "0b00001100"
   ]
  }
 ],
 "metadata": {
  "kernelspec": {
   "display_name": "Python 3 (ipykernel)",
   "language": "python",
   "name": "python3"
  },
  "language_info": {
   "codemirror_mode": {
    "name": "ipython",
    "version": 3
   },
   "file_extension": ".py",
   "mimetype": "text/x-python",
   "name": "python",
   "nbconvert_exporter": "python",
   "pygments_lexer": "ipython3",
   "version": "3.9.13"
  }
 },
 "nbformat": 4,
 "nbformat_minor": 5
}
