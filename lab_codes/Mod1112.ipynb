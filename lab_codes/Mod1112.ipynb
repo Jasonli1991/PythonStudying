{
 "cells": [
  {
   "cell_type": "code",
   "execution_count": 10,
   "id": "f06e4cb5",
   "metadata": {},
   "outputs": [],
   "source": [
    "d1={\"name\":\"Mary\",\"age\":22,\"sex\":\"F\"}"
   ]
  },
  {
   "cell_type": "code",
   "execution_count": 11,
   "id": "4aa4467f",
   "metadata": {},
   "outputs": [
    {
     "data": {
      "text/plain": [
       "{'name': 'Mary', 'age': 22, 'sex': 'F'}"
      ]
     },
     "execution_count": 11,
     "metadata": {},
     "output_type": "execute_result"
    }
   ],
   "source": [
    "d1   #dict無順序故可能順序對調。"
   ]
  },
  {
   "cell_type": "code",
   "execution_count": 12,
   "id": "e09d5fad",
   "metadata": {},
   "outputs": [],
   "source": [
    "d2={\"age\":22,\"sex\":\"F\",\"name\":\"Mary\"}"
   ]
  },
  {
   "cell_type": "code",
   "execution_count": 13,
   "id": "3125ea1a",
   "metadata": {},
   "outputs": [
    {
     "data": {
      "text/plain": [
       "{'age': 22, 'sex': 'F', 'name': 'Mary'}"
      ]
     },
     "execution_count": 13,
     "metadata": {},
     "output_type": "execute_result"
    }
   ],
   "source": [
    "d2"
   ]
  },
  {
   "cell_type": "code",
   "execution_count": 14,
   "id": "bd12c322",
   "metadata": {},
   "outputs": [
    {
     "data": {
      "text/plain": [
       "True"
      ]
     },
     "execution_count": 14,
     "metadata": {},
     "output_type": "execute_result"
    }
   ],
   "source": [
    "d1==d2"
   ]
  },
  {
   "cell_type": "code",
   "execution_count": 15,
   "id": "4f41dac6",
   "metadata": {},
   "outputs": [
    {
     "data": {
      "text/plain": [
       "False"
      ]
     },
     "execution_count": 15,
     "metadata": {},
     "output_type": "execute_result"
    }
   ],
   "source": [
    "d1 is d2   #若存放記憶體位置相同可能為真。"
   ]
  },
  {
   "cell_type": "code",
   "execution_count": 16,
   "id": "6b0afe46",
   "metadata": {},
   "outputs": [],
   "source": [
    "lst1=[100,200,300]"
   ]
  },
  {
   "cell_type": "code",
   "execution_count": 17,
   "id": "6d9da019",
   "metadata": {},
   "outputs": [],
   "source": [
    "lst2=[100,200,300]"
   ]
  },
  {
   "cell_type": "code",
   "execution_count": 18,
   "id": "44d1bc62",
   "metadata": {},
   "outputs": [],
   "source": [
    "lst3=[200,100,300]"
   ]
  },
  {
   "cell_type": "code",
   "execution_count": 19,
   "id": "06f7bdcf",
   "metadata": {},
   "outputs": [
    {
     "data": {
      "text/plain": [
       "True"
      ]
     },
     "execution_count": 19,
     "metadata": {},
     "output_type": "execute_result"
    }
   ],
   "source": [
    "lst1==lst2"
   ]
  },
  {
   "cell_type": "code",
   "execution_count": 20,
   "id": "2cdc99a4",
   "metadata": {},
   "outputs": [
    {
     "data": {
      "text/plain": [
       "False"
      ]
     },
     "execution_count": 20,
     "metadata": {},
     "output_type": "execute_result"
    }
   ],
   "source": [
    "lst1 is lst2   #若存放記憶體位置相同可能為真。"
   ]
  },
  {
   "cell_type": "code",
   "execution_count": 21,
   "id": "b15d53d6",
   "metadata": {},
   "outputs": [
    {
     "data": {
      "text/plain": [
       "False"
      ]
     },
     "execution_count": 21,
     "metadata": {},
     "output_type": "execute_result"
    }
   ],
   "source": [
    "lst2==lst3"
   ]
  },
  {
   "cell_type": "code",
   "execution_count": 22,
   "id": "9c5734fb",
   "metadata": {},
   "outputs": [
    {
     "data": {
      "text/plain": [
       "False"
      ]
     },
     "execution_count": 22,
     "metadata": {},
     "output_type": "execute_result"
    }
   ],
   "source": [
    "lst2 is lst3"
   ]
  },
  {
   "cell_type": "code",
   "execution_count": 25,
   "id": "e0465844",
   "metadata": {},
   "outputs": [
    {
     "data": {
      "text/plain": [
       "'none'"
      ]
     },
     "execution_count": 25,
     "metadata": {},
     "output_type": "execute_result"
    }
   ],
   "source": [
    "d1.get(\"addr\",\"none\")"
   ]
  },
  {
   "cell_type": "code",
   "execution_count": 30,
   "id": "359dcd6a",
   "metadata": {},
   "outputs": [
    {
     "data": {
      "text/plain": [
       "dict_keys(['name', 'age', 'sex'])"
      ]
     },
     "execution_count": 30,
     "metadata": {},
     "output_type": "execute_result"
    }
   ],
   "source": [
    "d1.keys()"
   ]
  },
  {
   "cell_type": "code",
   "execution_count": 31,
   "id": "fdaecbec",
   "metadata": {},
   "outputs": [
    {
     "data": {
      "text/plain": [
       "dict_items([('name', 'Mary'), ('age', 22), ('sex', 'F')])"
      ]
     },
     "execution_count": 31,
     "metadata": {},
     "output_type": "execute_result"
    }
   ],
   "source": [
    "d1.items()"
   ]
  },
  {
   "cell_type": "code",
   "execution_count": 32,
   "id": "99bc1a04",
   "metadata": {},
   "outputs": [],
   "source": [
    "s1={2,3,5,2,1,5,7}"
   ]
  },
  {
   "cell_type": "code",
   "execution_count": 33,
   "id": "26361a18",
   "metadata": {},
   "outputs": [
    {
     "data": {
      "text/plain": [
       "{1, 2, 3, 5, 7}"
      ]
     },
     "execution_count": 33,
     "metadata": {},
     "output_type": "execute_result"
    }
   ],
   "source": [
    "s1"
   ]
  },
  {
   "cell_type": "code",
   "execution_count": 34,
   "id": "72cf28a1",
   "metadata": {},
   "outputs": [],
   "source": [
    "s2={2,3,8,21,9,7}"
   ]
  },
  {
   "cell_type": "code",
   "execution_count": 35,
   "id": "530e2df6",
   "metadata": {},
   "outputs": [
    {
     "data": {
      "text/plain": [
       "{2, 3, 7, 8, 9, 21}"
      ]
     },
     "execution_count": 35,
     "metadata": {},
     "output_type": "execute_result"
    }
   ],
   "source": [
    "s2"
   ]
  },
  {
   "cell_type": "code",
   "execution_count": 36,
   "id": "b9545de9",
   "metadata": {},
   "outputs": [
    {
     "data": {
      "text/plain": [
       "{1, 2, 3, 5, 7, 8, 9, 21}"
      ]
     },
     "execution_count": 36,
     "metadata": {},
     "output_type": "execute_result"
    }
   ],
   "source": [
    "s1 | s2"
   ]
  },
  {
   "cell_type": "code",
   "execution_count": 37,
   "id": "477ea812",
   "metadata": {},
   "outputs": [
    {
     "data": {
      "text/plain": [
       "{2, 3, 7}"
      ]
     },
     "execution_count": 37,
     "metadata": {},
     "output_type": "execute_result"
    }
   ],
   "source": [
    "s1 & s2"
   ]
  },
  {
   "cell_type": "code",
   "execution_count": 38,
   "id": "4a34ada9",
   "metadata": {},
   "outputs": [
    {
     "data": {
      "text/plain": [
       "{1, 5}"
      ]
     },
     "execution_count": 38,
     "metadata": {},
     "output_type": "execute_result"
    }
   ],
   "source": [
    "s1 - s2"
   ]
  },
  {
   "cell_type": "code",
   "execution_count": 39,
   "id": "dd4de940",
   "metadata": {},
   "outputs": [
    {
     "data": {
      "text/plain": [
       "{8, 9, 21}"
      ]
     },
     "execution_count": 39,
     "metadata": {},
     "output_type": "execute_result"
    }
   ],
   "source": [
    "s2 - s1"
   ]
  },
  {
   "cell_type": "code",
   "execution_count": 40,
   "id": "0f789f1c",
   "metadata": {},
   "outputs": [
    {
     "data": {
      "text/plain": [
       "{1, 5, 8, 9, 21}"
      ]
     },
     "execution_count": 40,
     "metadata": {},
     "output_type": "execute_result"
    }
   ],
   "source": [
    "s1 ^ s2"
   ]
  },
  {
   "cell_type": "code",
   "execution_count": 1,
   "id": "bc867264",
   "metadata": {},
   "outputs": [
    {
     "ename": "NameError",
     "evalue": "name 's1' is not defined",
     "output_type": "error",
     "traceback": [
      "\u001b[0;31m---------------------------------------------------------------------------\u001b[0m",
      "\u001b[0;31mNameError\u001b[0m                                 Traceback (most recent call last)",
      "Input \u001b[0;32mIn [1]\u001b[0m, in \u001b[0;36m<cell line: 1>\u001b[0;34m()\u001b[0m\n\u001b[0;32m----> 1\u001b[0m \u001b[43ms1\u001b[49m \u001b[38;5;241m+\u001b[39m s2\n",
      "\u001b[0;31mNameError\u001b[0m: name 's1' is not defined"
     ]
    }
   ],
   "source": [
    "s1 + s2"
   ]
  },
  {
   "cell_type": "markdown",
   "id": "9059e928",
   "metadata": {},
   "source": [
    "### 測驗"
   ]
  },
  {
   "cell_type": "code",
   "execution_count": 15,
   "id": "84f98625",
   "metadata": {},
   "outputs": [],
   "source": [
    "l1=[\"a\",\"b\",\"c\",\"d\",\"e\",\"f\",\"g\"]"
   ]
  },
  {
   "cell_type": "code",
   "execution_count": 16,
   "id": "a6cfaeb1",
   "metadata": {},
   "outputs": [
    {
     "data": {
      "text/plain": [
       "[]"
      ]
     },
     "execution_count": 16,
     "metadata": {},
     "output_type": "execute_result"
    }
   ],
   "source": [
    "l1[-2:-5]"
   ]
  },
  {
   "cell_type": "code",
   "execution_count": 21,
   "id": "b366f430",
   "metadata": {},
   "outputs": [],
   "source": [
    "x=[3,5,7]"
   ]
  },
  {
   "cell_type": "code",
   "execution_count": 22,
   "id": "60423b06",
   "metadata": {},
   "outputs": [],
   "source": [
    "x[1:]=[2]"
   ]
  },
  {
   "cell_type": "code",
   "execution_count": 23,
   "id": "d5d95cd4",
   "metadata": {},
   "outputs": [
    {
     "data": {
      "text/plain": [
       "[3, 2]"
      ]
     },
     "execution_count": 23,
     "metadata": {},
     "output_type": "execute_result"
    }
   ],
   "source": [
    "x"
   ]
  },
  {
   "cell_type": "code",
   "execution_count": 24,
   "id": "b0ebe438",
   "metadata": {},
   "outputs": [],
   "source": [
    "y=(3,)"
   ]
  },
  {
   "cell_type": "code",
   "execution_count": 25,
   "id": "d5137f00",
   "metadata": {},
   "outputs": [
    {
     "data": {
      "text/plain": [
       "(3, 3, 3)"
      ]
     },
     "execution_count": 25,
     "metadata": {},
     "output_type": "execute_result"
    }
   ],
   "source": [
    "y*3"
   ]
  },
  {
   "cell_type": "code",
   "execution_count": 34,
   "id": "372d6474",
   "metadata": {},
   "outputs": [
    {
     "name": "stdout",
     "output_type": "stream",
     "text": [
      "R"
     ]
    }
   ],
   "source": [
    "k=9\n",
    "if k <= 6:\n",
    "    if k <= 22:\n",
    "        print(\"S\",end=\"\")\n",
    "    else :\n",
    "        \n",
    "        print(\"Y\",end=\"\")\n",
    "    print(\"P\",end=\"\")\n",
    "print(\"R\",end=\"\")"
   ]
  },
  {
   "cell_type": "code",
   "execution_count": 29,
   "id": "9a8e85fe",
   "metadata": {},
   "outputs": [
    {
     "name": "stdout",
     "output_type": "stream",
     "text": [
      "23458"
     ]
    }
   ],
   "source": [
    "def item_1_6(f,s,p,k=7,h=8):\n",
    "    print(f,end=\"\")\n",
    "    print(s,end=\"\")\n",
    "    print(p,end=\"\")\n",
    "    print(k,end=\"\")\n",
    "    print(h,end=\"\")\n",
    "\n",
    "item_1_6(2,p=4,s=3,k=5)"
   ]
  },
  {
   "cell_type": "code",
   "execution_count": 30,
   "id": "36701381",
   "metadata": {},
   "outputs": [
    {
     "name": "stdout",
     "output_type": "stream",
     "text": [
      "845"
     ]
    }
   ],
   "source": [
    "k=8\n",
    "def item_0_2():\n",
    "    k=4\n",
    "    while k <=5:\n",
    "        print(k,end=\"\")\n",
    "        k += 1\n",
    "\n",
    "print(k,end=\"\")\n",
    "item_0_2()"
   ]
  },
  {
   "cell_type": "code",
   "execution_count": 31,
   "id": "4aa20539",
   "metadata": {},
   "outputs": [
    {
     "name": "stdout",
     "output_type": "stream",
     "text": [
      "45"
     ]
    }
   ],
   "source": [
    "k = 4\n",
    "while k <= 8:\n",
    "    if k == 6:\n",
    "        break\n",
    "    print(k,end=\"\")\n",
    "    k += 1"
   ]
  },
  {
   "cell_type": "code",
   "execution_count": 32,
   "id": "d02a7d28",
   "metadata": {},
   "outputs": [
    {
     "name": "stdout",
     "output_type": "stream",
     "text": [
      "3334"
     ]
    }
   ],
   "source": [
    "def item_0_6(k):\n",
    "    print(k,end=\"\")\n",
    "    k += 1\n",
    "    return k\n",
    "\n",
    "k = 3\n",
    "item_0_6(k)\n",
    "item_0_6(3)\n",
    "k = item_0_6(k)\n",
    "print(k,end=\"\")"
   ]
  },
  {
   "cell_type": "code",
   "execution_count": 33,
   "id": "a2600c8a",
   "metadata": {},
   "outputs": [
    {
     "name": "stdout",
     "output_type": "stream",
     "text": [
      "001101"
     ]
    }
   ],
   "source": [
    "for k in range(2):\n",
    "    print(k,end=\"\")\n",
    "    for t in range(2):\n",
    "        print(t,end=\"\")"
   ]
  },
  {
   "cell_type": "code",
   "execution_count": 36,
   "id": "33f8d063",
   "metadata": {},
   "outputs": [
    {
     "name": "stdout",
     "output_type": "stream",
     "text": [
      "237823"
     ]
    }
   ],
   "source": [
    "def item_1_7(*v,f=2,s=3):\n",
    "    na = len(v)\n",
    "    for x in range(na):\n",
    "        print(v[x],end=\"\")\n",
    "    print(f,end=\"\")\n",
    "    print(s,end=\"\")\n",
    "\n",
    "item_1_7(2,3,7,8)"
   ]
  },
  {
   "cell_type": "code",
   "execution_count": 37,
   "id": "5c5c5cdc",
   "metadata": {},
   "outputs": [],
   "source": [
    "t = (\"a\")"
   ]
  },
  {
   "cell_type": "code",
   "execution_count": 38,
   "id": "bda498bc",
   "metadata": {},
   "outputs": [
    {
     "name": "stdout",
     "output_type": "stream",
     "text": [
      "<class 'str'>\n"
     ]
    }
   ],
   "source": [
    "print(type(t))"
   ]
  },
  {
   "cell_type": "code",
   "execution_count": 39,
   "id": "f280c267",
   "metadata": {},
   "outputs": [],
   "source": [
    "tup1=\"1\",\"2\""
   ]
  },
  {
   "cell_type": "code",
   "execution_count": 40,
   "id": "c8fa972b",
   "metadata": {},
   "outputs": [],
   "source": [
    "tup2=\"3,\",\"4\""
   ]
  },
  {
   "cell_type": "code",
   "execution_count": 41,
   "id": "c17391a0",
   "metadata": {},
   "outputs": [
    {
     "name": "stdout",
     "output_type": "stream",
     "text": [
      "('1', '2', '3,', '4')\n"
     ]
    }
   ],
   "source": [
    "print(tup1+tup2)"
   ]
  },
  {
   "cell_type": "code",
   "execution_count": 42,
   "id": "6fd63534",
   "metadata": {},
   "outputs": [
    {
     "name": "stdout",
     "output_type": "stream",
     "text": [
      "3\n"
     ]
    }
   ],
   "source": [
    "fruit={}\n",
    "def addone(index):\n",
    "    if index in fruit:\n",
    "        fruit[index] += 1\n",
    "    else:\n",
    "        fruit[index] = 1\n",
    "\n",
    "addone(\"Apple\")\n",
    "addone(\"Banana\")\n",
    "\n",
    "addone(\"apple\")\n",
    "addone(\"Banana\")\n",
    "print(len(fruit))"
   ]
  },
  {
   "cell_type": "code",
   "execution_count": 43,
   "id": "69e2a241",
   "metadata": {},
   "outputs": [],
   "source": [
    "a=7\n",
    "b=7"
   ]
  },
  {
   "cell_type": "code",
   "execution_count": 44,
   "id": "71916f34",
   "metadata": {},
   "outputs": [
    {
     "data": {
      "text/plain": [
       "True"
      ]
     },
     "execution_count": 44,
     "metadata": {},
     "output_type": "execute_result"
    }
   ],
   "source": [
    "a is b"
   ]
  },
  {
   "cell_type": "code",
   "execution_count": 45,
   "id": "0a71ad5a",
   "metadata": {},
   "outputs": [
    {
     "data": {
      "text/plain": [
       "True"
      ]
     },
     "execution_count": 45,
     "metadata": {},
     "output_type": "execute_result"
    }
   ],
   "source": [
    "a == b"
   ]
  },
  {
   "cell_type": "code",
   "execution_count": 46,
   "id": "c84474df",
   "metadata": {},
   "outputs": [
    {
     "name": "stdout",
     "output_type": "stream",
     "text": [
      "add10\n"
     ]
    },
    {
     "ename": "TypeError",
     "evalue": "'>' not supported between instances of 'str' and 'int'",
     "output_type": "error",
     "traceback": [
      "\u001b[0;31m---------------------------------------------------------------------------\u001b[0m",
      "\u001b[0;31mTypeError\u001b[0m                                 Traceback (most recent call last)",
      "Input \u001b[0;32mIn [46]\u001b[0m, in \u001b[0;36m<cell line: 2>\u001b[0;34m()\u001b[0m\n\u001b[1;32m      1\u001b[0m age \u001b[38;5;241m=\u001b[39m\u001b[38;5;28minput\u001b[39m(\u001b[38;5;124m\"\u001b[39m\u001b[38;5;124madd\u001b[39m\u001b[38;5;124m\"\u001b[39m)\n\u001b[0;32m----> 2\u001b[0m \u001b[38;5;28;01mif\u001b[39;00m \u001b[43mage\u001b[49m\u001b[43m \u001b[49m\u001b[38;5;241;43m>\u001b[39;49m\u001b[38;5;241;43m18\u001b[39;49m:\n\u001b[1;32m      3\u001b[0m     \u001b[38;5;28mprint\u001b[39m(\u001b[38;5;124m\"\u001b[39m\u001b[38;5;124mya\u001b[39m\u001b[38;5;124m\"\u001b[39m)\n\u001b[1;32m      4\u001b[0m \u001b[38;5;28;01melse\u001b[39;00m:\n",
      "\u001b[0;31mTypeError\u001b[0m: '>' not supported between instances of 'str' and 'int'"
     ]
    }
   ],
   "source": [
    "age =input(\"add\")\n",
    "if age >18:\n",
    "    print(\"ya\")\n",
    "else:\n",
    "    print(\"no\")"
   ]
  },
  {
   "cell_type": "code",
   "execution_count": 47,
   "id": "01df4013",
   "metadata": {},
   "outputs": [
    {
     "data": {
      "text/plain": [
       "30.5"
      ]
     },
     "execution_count": 47,
     "metadata": {},
     "output_type": "execute_result"
    }
   ],
   "source": [
    "25/2+3*3+2**3+13%(9//2)"
   ]
  },
  {
   "cell_type": "code",
   "execution_count": 48,
   "id": "74d0570c",
   "metadata": {},
   "outputs": [
    {
     "data": {
      "text/plain": [
       "False"
      ]
     },
     "execution_count": 48,
     "metadata": {},
     "output_type": "execute_result"
    }
   ],
   "source": [
    "\"1\" == 1"
   ]
  },
  {
   "cell_type": "code",
   "execution_count": 50,
   "id": "407da210",
   "metadata": {},
   "outputs": [
    {
     "name": "stdout",
     "output_type": "stream",
     "text": [
      "c:\temp\back\n"
     ]
    }
   ],
   "source": [
    "print(\"c:\\temp\\back\")"
   ]
  },
  {
   "cell_type": "code",
   "execution_count": 51,
   "id": "5000e3ec",
   "metadata": {},
   "outputs": [
    {
     "data": {
      "text/plain": [
       "False"
      ]
     },
     "execution_count": 51,
     "metadata": {},
     "output_type": "execute_result"
    }
   ],
   "source": [
    "25<10+3*4"
   ]
  },
  {
   "cell_type": "code",
   "execution_count": 52,
   "id": "737f0c33",
   "metadata": {},
   "outputs": [
    {
     "data": {
      "text/plain": [
       "9.0"
      ]
     },
     "execution_count": 52,
     "metadata": {},
     "output_type": "execute_result"
    }
   ],
   "source": [
    "6/2*(1+2)"
   ]
  },
  {
   "cell_type": "code",
   "execution_count": 53,
   "id": "45823958",
   "metadata": {},
   "outputs": [
    {
     "ename": "TypeError",
     "evalue": "'<' not supported between instances of 'list' and 'int'",
     "output_type": "error",
     "traceback": [
      "\u001b[0;31m---------------------------------------------------------------------------\u001b[0m",
      "\u001b[0;31mTypeError\u001b[0m                                 Traceback (most recent call last)",
      "Input \u001b[0;32mIn [53]\u001b[0m, in \u001b[0;36m<cell line: 1>\u001b[0;34m()\u001b[0m\n\u001b[0;32m----> 1\u001b[0m \u001b[38;5;28;01mif\u001b[39;00m \u001b[43mx\u001b[49m\u001b[43m \u001b[49m\u001b[38;5;241;43m<\u001b[39;49m\u001b[43m \u001b[49m\u001b[38;5;241;43m2\u001b[39;49m:\n\u001b[1;32m      2\u001b[0m     \u001b[38;5;28mprint\u001b[39m(\u001b[38;5;124m\"\u001b[39m\u001b[38;5;124mBelow 2\u001b[39m\u001b[38;5;124m\"\u001b[39m)\n\u001b[1;32m      3\u001b[0m \u001b[38;5;28;01melif\u001b[39;00m x \u001b[38;5;241m>\u001b[39m\u001b[38;5;241m=\u001b[39m \u001b[38;5;241m2\u001b[39m:\n",
      "\u001b[0;31mTypeError\u001b[0m: '<' not supported between instances of 'list' and 'int'"
     ]
    }
   ],
   "source": [
    "if x < 2:\n",
    "    print(\"Below 2\")\n",
    "elif x >= 2:\n",
    "    print(\"Two or more\")\n",
    "else:\n",
    "    print(\"Something else\")"
   ]
  },
  {
   "cell_type": "code",
   "execution_count": 54,
   "id": "0249814e",
   "metadata": {},
   "outputs": [],
   "source": [
    "x={\"name\":\"Jack\",\"age\":30}"
   ]
  },
  {
   "cell_type": "code",
   "execution_count": 55,
   "id": "5ca98011",
   "metadata": {},
   "outputs": [
    {
     "ename": "KeyError",
     "evalue": "'Name'",
     "output_type": "error",
     "traceback": [
      "\u001b[0;31m---------------------------------------------------------------------------\u001b[0m",
      "\u001b[0;31mKeyError\u001b[0m                                  Traceback (most recent call last)",
      "Input \u001b[0;32mIn [55]\u001b[0m, in \u001b[0;36m<cell line: 1>\u001b[0;34m()\u001b[0m\n\u001b[0;32m----> 1\u001b[0m \u001b[38;5;28mprint\u001b[39m(\u001b[43mx\u001b[49m\u001b[43m[\u001b[49m\u001b[38;5;124;43m\"\u001b[39;49m\u001b[38;5;124;43mName\u001b[39;49m\u001b[38;5;124;43m\"\u001b[39;49m\u001b[43m]\u001b[49m)\n",
      "\u001b[0;31mKeyError\u001b[0m: 'Name'"
     ]
    }
   ],
   "source": [
    "print(x[\"Name\"])"
   ]
  },
  {
   "cell_type": "code",
   "execution_count": 60,
   "id": "1cc7cc15",
   "metadata": {},
   "outputs": [
    {
     "name": "stdout",
     "output_type": "stream",
     "text": [
      "10\n",
      "10\n"
     ]
    }
   ],
   "source": [
    "def fun():\n",
    "    global var\n",
    "    var = 10\n",
    "    print(var)\n",
    "\n",
    "var = 5\n",
    "fun()\n",
    "print(var)"
   ]
  },
  {
   "cell_type": "code",
   "execution_count": 64,
   "id": "3debcf13",
   "metadata": {},
   "outputs": [
    {
     "ename": "IndentationError",
     "evalue": "unindent does not match any outer indentation level (<tokenize>, line 3)",
     "output_type": "error",
     "traceback": [
      "\u001b[0;36m  File \u001b[0;32m<tokenize>:3\u001b[0;36m\u001b[0m\n\u001b[0;31m    print(\"World\")\u001b[0m\n\u001b[0m    ^\u001b[0m\n\u001b[0;31mIndentationError\u001b[0m\u001b[0;31m:\u001b[0m unindent does not match any outer indentation level\n"
     ]
    }
   ],
   "source": [
    "if True:\n",
    "    print(\"Hello\")\n",
    "   print(\"World\")"
   ]
  },
  {
   "cell_type": "code",
   "execution_count": 65,
   "id": "99500d5a",
   "metadata": {},
   "outputs": [
    {
     "ename": "SyntaxError",
     "evalue": "invalid syntax (3946970802.py, line 1)",
     "output_type": "error",
     "traceback": [
      "\u001b[0;36m  Input \u001b[0;32mIn [65]\u001b[0;36m\u001b[0m\n\u001b[0;31m    x=(y=z+1)\u001b[0m\n\u001b[0m        ^\u001b[0m\n\u001b[0;31mSyntaxError\u001b[0m\u001b[0;31m:\u001b[0m invalid syntax\n"
     ]
    }
   ],
   "source": [
    "x=(y=z+1)"
   ]
  },
  {
   "cell_type": "code",
   "execution_count": 66,
   "id": "e355cc23",
   "metadata": {},
   "outputs": [],
   "source": [
    "tupa=\"a\",\"b\""
   ]
  },
  {
   "cell_type": "code",
   "execution_count": 67,
   "id": "40b330d4",
   "metadata": {},
   "outputs": [],
   "source": [
    "tupb=(\"a\",\"b\")"
   ]
  },
  {
   "cell_type": "code",
   "execution_count": 68,
   "id": "032acf35",
   "metadata": {},
   "outputs": [
    {
     "data": {
      "text/plain": [
       "True"
      ]
     },
     "execution_count": 68,
     "metadata": {},
     "output_type": "execute_result"
    }
   ],
   "source": [
    "tupa == tupb"
   ]
  },
  {
   "cell_type": "code",
   "execution_count": 69,
   "id": "58f6cb2c",
   "metadata": {},
   "outputs": [],
   "source": [
    "F=[\"tom\",\"mary\",\"jack\"]"
   ]
  },
  {
   "cell_type": "code",
   "execution_count": 70,
   "id": "3d068c18",
   "metadata": {},
   "outputs": [
    {
     "data": {
      "text/plain": [
       "'jack'"
      ]
     },
     "execution_count": 70,
     "metadata": {},
     "output_type": "execute_result"
    }
   ],
   "source": [
    "F[2]"
   ]
  },
  {
   "cell_type": "code",
   "execution_count": 71,
   "id": "7c5ee725",
   "metadata": {},
   "outputs": [
    {
     "ename": "TypeError",
     "evalue": "list indices must be integers or slices, not str",
     "output_type": "error",
     "traceback": [
      "\u001b[0;31m---------------------------------------------------------------------------\u001b[0m",
      "\u001b[0;31mTypeError\u001b[0m                                 Traceback (most recent call last)",
      "Input \u001b[0;32mIn [71]\u001b[0m, in \u001b[0;36m<cell line: 1>\u001b[0;34m()\u001b[0m\n\u001b[0;32m----> 1\u001b[0m \u001b[43mF\u001b[49m\u001b[43m[\u001b[49m\u001b[38;5;124;43m\"\u001b[39;49m\u001b[38;5;124;43mjack\u001b[39;49m\u001b[38;5;124;43m\"\u001b[39;49m\u001b[43m]\u001b[49m\n",
      "\u001b[0;31mTypeError\u001b[0m: list indices must be integers or slices, not str"
     ]
    }
   ],
   "source": [
    "F[\"jack\"]"
   ]
  }
 ],
 "metadata": {
  "kernelspec": {
   "display_name": "Python 3 (ipykernel)",
   "language": "python",
   "name": "python3"
  },
  "language_info": {
   "codemirror_mode": {
    "name": "ipython",
    "version": 3
   },
   "file_extension": ".py",
   "mimetype": "text/x-python",
   "name": "python",
   "nbconvert_exporter": "python",
   "pygments_lexer": "ipython3",
   "version": "3.9.13"
  }
 },
 "nbformat": 4,
 "nbformat_minor": 5
}
