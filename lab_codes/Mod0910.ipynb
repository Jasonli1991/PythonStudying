{
 "cells": [
  {
   "cell_type": "code",
   "execution_count": 1,
   "id": "48d69b4f",
   "metadata": {},
   "outputs": [],
   "source": [
    "lst=[100,200,300]"
   ]
  },
  {
   "cell_type": "code",
   "execution_count": 2,
   "id": "42079db8",
   "metadata": {},
   "outputs": [
    {
     "data": {
      "text/plain": [
       "4571338688"
      ]
     },
     "execution_count": 2,
     "metadata": {},
     "output_type": "execute_result"
    }
   ],
   "source": [
    "id(lst)"
   ]
  },
  {
   "cell_type": "code",
   "execution_count": 3,
   "id": "7e3c0a6e",
   "metadata": {},
   "outputs": [],
   "source": [
    "lst[1]=10"
   ]
  },
  {
   "cell_type": "code",
   "execution_count": 4,
   "id": "3099e3b9",
   "metadata": {},
   "outputs": [
    {
     "data": {
      "text/plain": [
       "[100, 10, 300]"
      ]
     },
     "execution_count": 4,
     "metadata": {},
     "output_type": "execute_result"
    }
   ],
   "source": [
    "lst"
   ]
  },
  {
   "cell_type": "code",
   "execution_count": 5,
   "id": "ef8bbc38",
   "metadata": {},
   "outputs": [
    {
     "data": {
      "text/plain": [
       "4571338688"
      ]
     },
     "execution_count": 5,
     "metadata": {},
     "output_type": "execute_result"
    }
   ],
   "source": [
    "id(lst)"
   ]
  },
  {
   "cell_type": "code",
   "execution_count": 17,
   "id": "039746ca",
   "metadata": {},
   "outputs": [],
   "source": [
    "lst3=[\"aaa\",\"ttt\",\"ccc\",\"yyy\",]"
   ]
  },
  {
   "cell_type": "code",
   "execution_count": 18,
   "id": "7386d24a",
   "metadata": {},
   "outputs": [
    {
     "data": {
      "text/plain": [
       "'yyy'"
      ]
     },
     "execution_count": 18,
     "metadata": {},
     "output_type": "execute_result"
    }
   ],
   "source": [
    "max(lst3)"
   ]
  },
  {
   "cell_type": "code",
   "execution_count": 19,
   "id": "3a270a29",
   "metadata": {},
   "outputs": [
    {
     "data": {
      "text/plain": [
       "['aaa', 'ccc', 'ttt', 'yyy']"
      ]
     },
     "execution_count": 19,
     "metadata": {},
     "output_type": "execute_result"
    }
   ],
   "source": [
    "sorted(lst3)"
   ]
  },
  {
   "cell_type": "code",
   "execution_count": 21,
   "id": "dcc410e0",
   "metadata": {},
   "outputs": [
    {
     "data": {
      "text/plain": [
       "['yyy', 'ttt', 'ccc', 'aaa']"
      ]
     },
     "execution_count": 21,
     "metadata": {},
     "output_type": "execute_result"
    }
   ],
   "source": [
    "sorted(lst3,reverse=True)"
   ]
  },
  {
   "cell_type": "code",
   "execution_count": 22,
   "id": "74b2b6e1",
   "metadata": {},
   "outputs": [],
   "source": [
    "lst3.append(\"xxx\")"
   ]
  },
  {
   "cell_type": "code",
   "execution_count": 23,
   "id": "4e0b0b3c",
   "metadata": {},
   "outputs": [
    {
     "data": {
      "text/plain": [
       "['aaa', 'ttt', 'ccc', 'yyy', 'xxx']"
      ]
     },
     "execution_count": 23,
     "metadata": {},
     "output_type": "execute_result"
    }
   ],
   "source": [
    "lst3"
   ]
  },
  {
   "cell_type": "markdown",
   "id": "91235a11",
   "metadata": {},
   "source": [
    "### Tuple "
   ]
  },
  {
   "cell_type": "code",
   "execution_count": 24,
   "id": "252ee573",
   "metadata": {},
   "outputs": [],
   "source": [
    "tup5=(50)"
   ]
  },
  {
   "cell_type": "code",
   "execution_count": 25,
   "id": "7ba0db47",
   "metadata": {},
   "outputs": [
    {
     "data": {
      "text/plain": [
       "int"
      ]
     },
     "execution_count": 25,
     "metadata": {},
     "output_type": "execute_result"
    }
   ],
   "source": [
    "type(tup5)"
   ]
  },
  {
   "cell_type": "code",
   "execution_count": 26,
   "id": "5516ae2c",
   "metadata": {},
   "outputs": [],
   "source": [
    "tup6=(50,)"
   ]
  },
  {
   "cell_type": "code",
   "execution_count": 27,
   "id": "c4b5b47f",
   "metadata": {},
   "outputs": [
    {
     "data": {
      "text/plain": [
       "tuple"
      ]
     },
     "execution_count": 27,
     "metadata": {},
     "output_type": "execute_result"
    }
   ],
   "source": [
    "type(tup6)"
   ]
  },
  {
   "cell_type": "code",
   "execution_count": 28,
   "id": "5b68222a",
   "metadata": {},
   "outputs": [],
   "source": [
    "a=5"
   ]
  },
  {
   "cell_type": "code",
   "execution_count": 29,
   "id": "43173003",
   "metadata": {},
   "outputs": [],
   "source": [
    "b=10"
   ]
  },
  {
   "cell_type": "code",
   "execution_count": 30,
   "id": "fc75682f",
   "metadata": {},
   "outputs": [
    {
     "data": {
      "text/plain": [
       "(5, 10)"
      ]
     },
     "execution_count": 30,
     "metadata": {},
     "output_type": "execute_result"
    }
   ],
   "source": [
    "a,b"
   ]
  },
  {
   "cell_type": "code",
   "execution_count": 31,
   "id": "48a3bfce",
   "metadata": {},
   "outputs": [],
   "source": [
    "a,b=b,a"
   ]
  },
  {
   "cell_type": "code",
   "execution_count": 32,
   "id": "ebe4f167",
   "metadata": {},
   "outputs": [
    {
     "data": {
      "text/plain": [
       "(10, 5)"
      ]
     },
     "execution_count": 32,
     "metadata": {},
     "output_type": "execute_result"
    }
   ],
   "source": [
    "a,b"
   ]
  },
  {
   "cell_type": "code",
   "execution_count": 33,
   "id": "a8f9c2af",
   "metadata": {},
   "outputs": [],
   "source": [
    "tup1=11,22,33"
   ]
  },
  {
   "cell_type": "code",
   "execution_count": 34,
   "id": "80228eb5",
   "metadata": {},
   "outputs": [
    {
     "ename": "TypeError",
     "evalue": "'tuple' object does not support item assignment",
     "output_type": "error",
     "traceback": [
      "\u001b[0;31m---------------------------------------------------------------------------\u001b[0m",
      "\u001b[0;31mTypeError\u001b[0m                                 Traceback (most recent call last)",
      "Input \u001b[0;32mIn [34]\u001b[0m, in \u001b[0;36m<cell line: 1>\u001b[0;34m()\u001b[0m\n\u001b[0;32m----> 1\u001b[0m tup1[\u001b[38;5;241m1\u001b[39m]\u001b[38;5;241m=\u001b[39m\u001b[38;5;241m77\u001b[39m\n",
      "\u001b[0;31mTypeError\u001b[0m: 'tuple' object does not support item assignment"
     ]
    }
   ],
   "source": [
    "tup1[1]=77   #tuple無法更改。"
   ]
  },
  {
   "cell_type": "code",
   "execution_count": 35,
   "id": "3ce03efe",
   "metadata": {},
   "outputs": [
    {
     "data": {
      "text/plain": [
       "[11, 22, 33]"
      ]
     },
     "execution_count": 35,
     "metadata": {},
     "output_type": "execute_result"
    }
   ],
   "source": [
    "sorted(tup1)   #送回list。"
   ]
  }
 ],
 "metadata": {
  "kernelspec": {
   "display_name": "Python 3 (ipykernel)",
   "language": "python",
   "name": "python3"
  },
  "language_info": {
   "codemirror_mode": {
    "name": "ipython",
    "version": 3
   },
   "file_extension": ".py",
   "mimetype": "text/x-python",
   "name": "python",
   "nbconvert_exporter": "python",
   "pygments_lexer": "ipython3",
   "version": "3.9.13"
  }
 },
 "nbformat": 4,
 "nbformat_minor": 5
}
