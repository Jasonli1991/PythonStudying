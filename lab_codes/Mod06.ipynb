{
 "cells": [
  {
   "cell_type": "code",
   "execution_count": 2,
   "id": "b2c2213c",
   "metadata": {},
   "outputs": [
    {
     "data": {
      "text/plain": [
       "'test'"
      ]
     },
     "execution_count": 2,
     "metadata": {},
     "output_type": "execute_result"
    }
   ],
   "source": [
    "\"(test)\".lstrip(\"(\").rstrip(\")\")"
   ]
  },
  {
   "cell_type": "code",
   "execution_count": 5,
   "id": "72cf79c1",
   "metadata": {},
   "outputs": [
    {
     "data": {
      "text/plain": [
       "'test'"
      ]
     },
     "execution_count": 5,
     "metadata": {},
     "output_type": "execute_result"
    }
   ],
   "source": [
    "\"(test)\"[1:-1]"
   ]
  },
  {
   "cell_type": "code",
   "execution_count": 7,
   "id": "055e3183",
   "metadata": {},
   "outputs": [
    {
     "name": "stdout",
     "output_type": "stream",
     "text": [
      "enter a number: 88\n"
     ]
    }
   ],
   "source": [
    "x=input(\"enter a number: \")"
   ]
  },
  {
   "cell_type": "code",
   "execution_count": 8,
   "id": "f7cfc14a",
   "metadata": {},
   "outputs": [
    {
     "data": {
      "text/plain": [
       "'88'"
      ]
     },
     "execution_count": 8,
     "metadata": {},
     "output_type": "execute_result"
    }
   ],
   "source": [
    "x   #顯示到螢幕上的必為文字。"
   ]
  },
  {
   "cell_type": "code",
   "execution_count": 14,
   "id": "37fc21d1",
   "metadata": {},
   "outputs": [
    {
     "data": {
      "text/plain": [
       "str"
      ]
     },
     "execution_count": 14,
     "metadata": {},
     "output_type": "execute_result"
    }
   ],
   "source": [
    "type(x)"
   ]
  },
  {
   "cell_type": "code",
   "execution_count": 11,
   "id": "9a752b1b",
   "metadata": {
    "scrolled": true
   },
   "outputs": [
    {
     "name": "stdout",
     "output_type": "stream",
     "text": [
      "enter a number: 77\n"
     ]
    }
   ],
   "source": [
    "m=eval(input(\"enter a number: \"))"
   ]
  },
  {
   "cell_type": "code",
   "execution_count": 12,
   "id": "c9da276e",
   "metadata": {},
   "outputs": [
    {
     "data": {
      "text/plain": [
       "77"
      ]
     },
     "execution_count": 12,
     "metadata": {},
     "output_type": "execute_result"
    }
   ],
   "source": [
    "m"
   ]
  },
  {
   "cell_type": "code",
   "execution_count": 13,
   "id": "60410fd0",
   "metadata": {},
   "outputs": [
    {
     "data": {
      "text/plain": [
       "int"
      ]
     },
     "execution_count": 13,
     "metadata": {},
     "output_type": "execute_result"
    }
   ],
   "source": [
    "type(m)"
   ]
  },
  {
   "cell_type": "code",
   "execution_count": 15,
   "id": "aac93be0",
   "metadata": {},
   "outputs": [],
   "source": [
    "name=\"iii\""
   ]
  },
  {
   "cell_type": "code",
   "execution_count": 16,
   "id": "3d846b2f",
   "metadata": {},
   "outputs": [],
   "source": [
    "est=\"1979\""
   ]
  },
  {
   "cell_type": "code",
   "execution_count": 51,
   "id": "36451eca",
   "metadata": {
    "scrolled": true
   },
   "outputs": [
    {
     "data": {
      "text/plain": [
       "'iii was established in 1979.'"
      ]
     },
     "execution_count": 51,
     "metadata": {},
     "output_type": "execute_result"
    }
   ],
   "source": [
    "f'{name} was established in {est}.'"
   ]
  },
  {
   "cell_type": "code",
   "execution_count": 54,
   "id": "4d534377",
   "metadata": {},
   "outputs": [
    {
     "data": {
      "text/plain": [
       "'iii was established in 1979.'"
      ]
     },
     "execution_count": 54,
     "metadata": {},
     "output_type": "execute_result"
    }
   ],
   "source": [
    "\"{} was established in {}.\".format(name,est)"
   ]
  },
  {
   "cell_type": "code",
   "execution_count": 55,
   "id": "dc2bc7e8",
   "metadata": {
    "scrolled": true
   },
   "outputs": [
    {
     "name": "stdout",
     "output_type": "stream",
     "text": [
      "59.9 ns ± 0.0535 ns per loop (mean ± std. dev. of 7 runs, 10,000,000 loops each)\n"
     ]
    }
   ],
   "source": [
    "%%timeit\n",
    "f'{name} was established in {est}.'"
   ]
  },
  {
   "cell_type": "code",
   "execution_count": 56,
   "id": "f28ed542",
   "metadata": {},
   "outputs": [
    {
     "name": "stdout",
     "output_type": "stream",
     "text": [
      "144 ns ± 0.312 ns per loop (mean ± std. dev. of 7 runs, 10,000,000 loops each)\n"
     ]
    }
   ],
   "source": [
    "%%timeit\n",
    "\"{} was established in {}.\".format(name,est)"
   ]
  },
  {
   "cell_type": "code",
   "execution_count": 20,
   "id": "c4698f4e",
   "metadata": {},
   "outputs": [],
   "source": [
    "data=12.34567"
   ]
  },
  {
   "cell_type": "code",
   "execution_count": 21,
   "id": "fd5c2b9c",
   "metadata": {},
   "outputs": [
    {
     "data": {
      "text/plain": [
       "'Value=  12'"
      ]
     },
     "execution_count": 21,
     "metadata": {},
     "output_type": "execute_result"
    }
   ],
   "source": [
    "f'Value={data:4.0f}'   #以空格補滿4個字。"
   ]
  },
  {
   "cell_type": "code",
   "execution_count": 36,
   "id": "7ddc44ab",
   "metadata": {},
   "outputs": [
    {
     "data": {
      "text/plain": [
       "'Value=12.35'"
      ]
     },
     "execution_count": 36,
     "metadata": {},
     "output_type": "execute_result"
    }
   ],
   "source": [
    "f'Value={data:5.2f}'"
   ]
  },
  {
   "cell_type": "code",
   "execution_count": 34,
   "id": "55457a53",
   "metadata": {},
   "outputs": [
    {
     "data": {
      "text/plain": [
       "'Value=12.35'"
      ]
     },
     "execution_count": 34,
     "metadata": {},
     "output_type": "execute_result"
    }
   ],
   "source": [
    "f'Value={data:.2f}'   #同上。"
   ]
  },
  {
   "cell_type": "code",
   "execution_count": 33,
   "id": "91f4e37e",
   "metadata": {},
   "outputs": [
    {
     "data": {
      "text/plain": [
       "'Value=012.35'"
      ]
     },
     "execution_count": 33,
     "metadata": {},
     "output_type": "execute_result"
    }
   ],
   "source": [
    "f'Value={data:06.2f}'"
   ]
  },
  {
   "cell_type": "code",
   "execution_count": 50,
   "id": "67e664d0",
   "metadata": {},
   "outputs": [
    {
     "ename": "ValueError",
     "evalue": "Invalid format specifier",
     "output_type": "error",
     "traceback": [
      "\u001b[0;31m---------------------------------------------------------------------------\u001b[0m",
      "\u001b[0;31mValueError\u001b[0m                                Traceback (most recent call last)",
      "Input \u001b[0;32mIn [50]\u001b[0m, in \u001b[0;36m<cell line: 1>\u001b[0;34m()\u001b[0m\n\u001b[0;32m----> 1\u001b[0m \u001b[38;5;124mf\u001b[39m\u001b[38;5;124m'\u001b[39m\u001b[38;5;124mValue=\u001b[39m\u001b[38;5;132;01m{\u001b[39;00mdata\u001b[38;5;132;01m:\u001b[39;00m\u001b[38;5;124m_6.2f\u001b[39m\u001b[38;5;132;01m}\u001b[39;00m\u001b[38;5;124m'\u001b[39m\n",
      "\u001b[0;31mValueError\u001b[0m: Invalid format specifier"
     ]
    }
   ],
   "source": [
    "f'Value={data:_6.2f}'   #僅可補0。"
   ]
  }
 ],
 "metadata": {
  "kernelspec": {
   "display_name": "Python 3 (ipykernel)",
   "language": "python",
   "name": "python3"
  },
  "language_info": {
   "codemirror_mode": {
    "name": "ipython",
    "version": 3
   },
   "file_extension": ".py",
   "mimetype": "text/x-python",
   "name": "python",
   "nbconvert_exporter": "python",
   "pygments_lexer": "ipython3",
   "version": "3.9.13"
  }
 },
 "nbformat": 4,
 "nbformat_minor": 5
}
