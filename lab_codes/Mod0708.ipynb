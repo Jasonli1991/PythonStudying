{
 "cells": [
  {
   "cell_type": "code",
   "execution_count": 1,
   "id": "369cfdd4",
   "metadata": {},
   "outputs": [
    {
     "name": "stdout",
     "output_type": "stream",
     "text": [
      "Your name please: Jason\n",
      "Hello Jason\n",
      "Nice to meet you!\n"
     ]
    }
   ],
   "source": [
    "%run mod07/ex7_1.py"
   ]
  },
  {
   "cell_type": "code",
   "execution_count": 3,
   "id": "1aa6a3ae",
   "metadata": {},
   "outputs": [],
   "source": [
    "data = 11 + 12 +\\\n",
    "13 + 14"
   ]
  },
  {
   "cell_type": "code",
   "execution_count": 4,
   "id": "e1edbc61",
   "metadata": {},
   "outputs": [
    {
     "data": {
      "text/plain": [
       "50"
      ]
     },
     "execution_count": 4,
     "metadata": {},
     "output_type": "execute_result"
    }
   ],
   "source": [
    "data"
   ]
  },
  {
   "cell_type": "code",
   "execution_count": 7,
   "id": "c38d55b5",
   "metadata": {},
   "outputs": [],
   "source": [
    "mylist = [11,12\n",
    "         ,13,14]"
   ]
  },
  {
   "cell_type": "code",
   "execution_count": 6,
   "id": "a632a06b",
   "metadata": {},
   "outputs": [
    {
     "data": {
      "text/plain": [
       "[11, 12, 13, 14]"
      ]
     },
     "execution_count": 6,
     "metadata": {},
     "output_type": "execute_result"
    }
   ],
   "source": [
    "mylist"
   ]
  },
  {
   "cell_type": "code",
   "execution_count": 8,
   "id": "dc3a23cf",
   "metadata": {},
   "outputs": [],
   "source": [
    "# this is a comment"
   ]
  },
  {
   "cell_type": "code",
   "execution_count": 9,
   "id": "03a11ab9",
   "metadata": {},
   "outputs": [
    {
     "data": {
      "text/plain": [
       "'this is a comment'"
      ]
     },
     "execution_count": 9,
     "metadata": {},
     "output_type": "execute_result"
    }
   ],
   "source": [
    "\"\"\"this is a comment\"\"\""
   ]
  },
  {
   "cell_type": "code",
   "execution_count": 10,
   "id": "744ac01b",
   "metadata": {},
   "outputs": [
    {
     "name": "stdout",
     "output_type": "stream",
     "text": [
      "Input score: 99\n",
      "Exam socre is 99\n"
     ]
    }
   ],
   "source": [
    "%run mod07/ifstmt1.py"
   ]
  },
  {
   "cell_type": "code",
   "execution_count": 11,
   "id": "b4b5da7c",
   "metadata": {},
   "outputs": [
    {
     "name": "stdout",
     "output_type": "stream",
     "text": [
      "Input score: 58\n",
      "Put more effort!\n",
      "Exam socre is 58\n"
     ]
    }
   ],
   "source": [
    "%run mod07/ifstmt1.py"
   ]
  },
  {
   "cell_type": "code",
   "execution_count": 12,
   "id": "82de485d",
   "metadata": {},
   "outputs": [
    {
     "name": "stdout",
     "output_type": "stream",
     "text": [
      "Input score: 80\n",
      "Pass!\n"
     ]
    }
   ],
   "source": [
    "%run mod07/ifstmt2.py"
   ]
  },
  {
   "cell_type": "code",
   "execution_count": 13,
   "id": "d5047cf8",
   "metadata": {},
   "outputs": [
    {
     "name": "stdout",
     "output_type": "stream",
     "text": [
      "Input score: 55\n",
      "Not pass!\n"
     ]
    }
   ],
   "source": [
    "%run mod07/ifstmt2.py"
   ]
  },
  {
   "cell_type": "code",
   "execution_count": 16,
   "id": "457b6762",
   "metadata": {},
   "outputs": [
    {
     "data": {
      "text/plain": [
       "9"
      ]
     },
     "execution_count": 16,
     "metadata": {},
     "output_type": "execute_result"
    }
   ],
   "source": [
    "7 if {} else 9   #三元運算取代簡單的if/else敘述。"
   ]
  },
  {
   "cell_type": "markdown",
   "id": "b99d239e",
   "metadata": {},
   "source": [
    "### range()"
   ]
  },
  {
   "cell_type": "code",
   "execution_count": 17,
   "id": "e4fa70da",
   "metadata": {},
   "outputs": [
    {
     "data": {
      "text/plain": [
       "range(0, 10)"
      ]
     },
     "execution_count": 17,
     "metadata": {},
     "output_type": "execute_result"
    }
   ],
   "source": [
    "# lazy evaluation 代表需要的時候再執行。\n",
    "range(10)"
   ]
  },
  {
   "cell_type": "code",
   "execution_count": 18,
   "id": "f884158c",
   "metadata": {},
   "outputs": [
    {
     "data": {
      "text/plain": [
       "[0, 1, 2, 3, 4, 5, 6, 7, 8, 9]"
      ]
     },
     "execution_count": 18,
     "metadata": {},
     "output_type": "execute_result"
    }
   ],
   "source": [
    "list(range(10))"
   ]
  },
  {
   "cell_type": "code",
   "execution_count": 19,
   "id": "8a7eee3f",
   "metadata": {},
   "outputs": [
    {
     "data": {
      "text/plain": [
       "(0, 1, 2, 3, 4, 5, 6, 7, 8, 9)"
      ]
     },
     "execution_count": 19,
     "metadata": {},
     "output_type": "execute_result"
    }
   ],
   "source": [
    "tuple(range(10))"
   ]
  },
  {
   "cell_type": "code",
   "execution_count": 20,
   "id": "7081e625",
   "metadata": {},
   "outputs": [
    {
     "name": "stdout",
     "output_type": "stream",
     "text": [
      "Input a value: 10\n",
      "sum = 55\n"
     ]
    }
   ],
   "source": [
    "%run mod08/forstmt1.py"
   ]
  },
  {
   "cell_type": "code",
   "execution_count": 25,
   "id": "31548b14",
   "metadata": {},
   "outputs": [
    {
     "name": "stdout",
     "output_type": "stream",
     "text": [
      "2 4 6 "
     ]
    }
   ],
   "source": [
    "for i in range (1, 7):\n",
    "    if i % 2 == 1:\n",
    "        continue\n",
    "    print(i, end=' ')"
   ]
  },
  {
   "cell_type": "code",
   "execution_count": 23,
   "id": "6fba4543",
   "metadata": {},
   "outputs": [
    {
     "name": "stdout",
     "output_type": "stream",
     "text": [
      "2 4 6 "
     ]
    }
   ],
   "source": [
    "for i in range (1, 7):\n",
    "    if i % 2 :continue\n",
    "    print(i, end=' ')"
   ]
  },
  {
   "cell_type": "code",
   "execution_count": 26,
   "id": "2e23612a",
   "metadata": {},
   "outputs": [
    {
     "name": "stdout",
     "output_type": "stream",
     "text": [
      "286 ns ± 1.13 ns per loop (mean ± std. dev. of 7 runs, 1,000,000 loops each)\n"
     ]
    }
   ],
   "source": [
    "%%timeit\n",
    "for i in range (1, 7):\n",
    "    if i % 2 == 1:\n",
    "        continue\n",
    "    #print(i, end=' ')"
   ]
  },
  {
   "cell_type": "code",
   "execution_count": 27,
   "id": "77e61884",
   "metadata": {},
   "outputs": [
    {
     "name": "stdout",
     "output_type": "stream",
     "text": [
      "224 ns ± 0.867 ns per loop (mean ± std. dev. of 7 runs, 1,000,000 loops each)\n"
     ]
    }
   ],
   "source": [
    "%%timeit\n",
    "for i in range (1, 7):\n",
    "    if i % 2 :continue\n",
    "    #print(i, end=' ')"
   ]
  }
 ],
 "metadata": {
  "kernelspec": {
   "display_name": "Python 3 (ipykernel)",
   "language": "python",
   "name": "python3"
  },
  "language_info": {
   "codemirror_mode": {
    "name": "ipython",
    "version": 3
   },
   "file_extension": ".py",
   "mimetype": "text/x-python",
   "name": "python",
   "nbconvert_exporter": "python",
   "pygments_lexer": "ipython3",
   "version": "3.9.13"
  }
 },
 "nbformat": 4,
 "nbformat_minor": 5
}
